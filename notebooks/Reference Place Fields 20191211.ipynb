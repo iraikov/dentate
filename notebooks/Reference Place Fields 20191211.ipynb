{
 "cells": [
  {
   "cell_type": "code",
   "execution_count": 15,
   "metadata": {},
   "outputs": [],
   "source": [
    "import os, sys\n",
    "from os.path import expanduser\n",
    "from collections import defaultdict\n",
    "import numpy as np\n",
    "import matplotlib.pyplot as plt\n",
    "%matplotlib inline\n",
    "\n",
    "user_home = expanduser(\"~\")\n",
    "neuron_home = '%s/bin/nrnpython3/lib/python' % user_home\n",
    "model_home = '%s/src/model' % user_home\n",
    "dentate_home = '%s/dentate' % model_home\n",
    "datasets_home = '/media/igr/d865f900-7fcd-45c7-a7a7-bd2a7391bc40/Data/DG/'\n",
    "results_prefix = os.getenv('DG_RESULTS_DIR', '%s/results' % datasets_home)\n",
    "sys.path.append(neuron_home) \n",
    "sys.path.append(model_home) \n",
    "\n",
    "import neuroh5\n",
    "from neuroh5.io import read_population_ranges, read_population_names, read_cell_attributes\n",
    "import dentate\n",
    "from dentate import utils, plot, stimulus, spikedata\n",
    "from dentate.env import Env\n",
    "from dentate.utils import Struct, zip_longest"
   ]
  },
  {
   "cell_type": "code",
   "execution_count": 50,
   "metadata": {},
   "outputs": [],
   "source": [
    "def pf_dist(reference, result):\n",
    "    dists = []\n",
    "    for i in range(result.shape[0]):\n",
    "        dists_i = []\n",
    "        for j in range(reference.shape[0]):\n",
    "            dist = np.linalg.norm(result[i, :] - reference[j, :])\n",
    "            dists_i.append(dist)\n",
    "        dists.append(np.min(np.asarray(dists_i)))\n",
    "    return np.mean(dists)\n",
    "        \n",
    "    "
   ]
  },
  {
   "cell_type": "code",
   "execution_count": 25,
   "metadata": {},
   "outputs": [],
   "source": [
    "bin_size = 5.\n",
    "config_path = '%s/config/Full_Scale_Basis.yaml' % dentate_home\n",
    "template_path = '%s/templates' % dentate_home\n",
    "\n",
    "rel_spike_events_path = 'Full_Scale_GC_Exc_Sat_DD_SLN_Diag_10618023.bw/dentatenet_Full_Scale_GC_Exc_Sat_DD_SLN_results_compressed.h5'\n",
    "spike_events_path = '%s/%s' % (results_prefix, rel_spike_events_path)\n",
    "spike_events_namespace_id = 'Spike Events'\n",
    "                          \n",
    "rel_input_features_path = 'Full_Scale_Control/DG_input_features_20191119_compressed.h5'\n",
    "input_features_path = '%s/%s' % (datasets_home, rel_input_features_path)\n",
    "input_features_namespace_id = 'Place Selectivity A'\n",
    "\n",
    "trajectory_path = '%s/Full_Scale_Control/DG_remap_spike_trains_20191113_compressed.h5' % datasets_home\n",
    "\n",
    "arena_id = 'A'\n",
    "trajectory_id = 'Diag'\n",
    "\n"
   ]
  },
  {
   "cell_type": "code",
   "execution_count": 11,
   "metadata": {},
   "outputs": [],
   "source": [
    "baks_config = Struct(**{'BAKS Alpha': 4.77,'BAKS Beta': None})\n",
    "pf_config = Struct(**{'Minimum Width': 15., 'Minimum Rate': 1.0})\n",
    "\n",
    "env = None\n",
    "if config_path is not None:\n",
    "    env = Env(config_file=config_path, template_paths=template_path)\n",
    "    if env.analysis_config is not None:\n",
    "        baks_config.update(env.analysis_config['Firing Rate Inference'])\n",
    "        pf_config.update(env.analysis_config['Place Fields'])\n",
    "\n"
   ]
  },
  {
   "cell_type": "code",
   "execution_count": 12,
   "metadata": {},
   "outputs": [],
   "source": [
    "trajectory = stimulus.read_trajectory(trajectory_path, arena_id, trajectory_id)"
   ]
  },
  {
   "cell_type": "code",
   "execution_count": 59,
   "metadata": {},
   "outputs": [],
   "source": [
    "it = read_cell_attributes(input_features_path, 'GC', namespace=input_features_namespace_id)\n",
    "GC_input_features = dict(it)\n",
    "it = read_cell_attributes(input_features_path, 'LPP', namespace=input_features_namespace_id)\n",
    "LPP_input_features = dict(it)"
   ]
  },
  {
   "cell_type": "code",
   "execution_count": 9,
   "metadata": {},
   "outputs": [
    {
     "name": "stdout",
     "output_type": "stream",
     "text": [
      "reading /media/igr/d865f900-7fcd-45c7-a7a7-bd2a7391bc40/Data/DG//results/Full_Scale_GC_Exc_Sat_DD_SLN_Diag_10618023.bw/dentatenet_Full_Scale_GC_Exc_Sat_DD_SLN_results_compressed.h5\n"
     ]
    },
    {
     "name": "stderr",
     "output_type": "stream",
     "text": [
      "100%|██████████| 33686/33686 [00:08<00:00, 4108.68it/s] \n",
      "100%|██████████| 33686/33686 [03:46<00:00, 148.61it/s]\n",
      "100%|██████████| 12541/12541 [00:57<00:00, 218.68it/s]\n",
      "100%|██████████| 12541/12541 [01:23<00:00, 150.52it/s]\n"
     ]
    }
   ],
   "source": [
    "populations = ['GC', 'LPP']\n",
    "PF_arena_dicts = defaultdict(lambda: defaultdict(lambda: None))\n",
    "this_spike_namespace = '%s %s %s' % (spike_events_namespace_id, arena_id, trajectory_id)\n",
    "this_spike_namespace = spike_namespace_id\n",
    "print('reading %s' % spike_input_path)\n",
    "spkdata = spikedata.read_spike_events(spike_input_path, populations, this_spike_namespace,\n",
    "                                          spike_train_attr_name='t', time_range=[500., 9500.])\n",
    "\n",
    "spkpoplst = spkdata['spkpoplst']\n",
    "spkindlst = spkdata['spkindlst']\n",
    "spktlst = spkdata['spktlst']\n",
    "num_cell_spks = spkdata['num_cell_spks']\n",
    "pop_active_cells = spkdata['pop_active_cells']\n",
    "tmin = spkdata['tmin']\n",
    "tmax = spkdata['tmax']\n",
    "\n",
    "time_range = [tmin, tmax]\n",
    "time_bins  = np.arange(time_range[0], time_range[1], bin_size)\n",
    "\n",
    "for i, subset in enumerate(spkpoplst):\n",
    "\n",
    "    spkts         = spktlst[i]\n",
    "    spkinds       = spkindlst[i]\n",
    "    spkdict       = spikedata.make_spike_dict(spkinds, spkts)\n",
    "\n",
    "    rate_bin_dict = spikedata.spike_density_estimate(subset, spkdict, time_bins, arena_id=arena_id,\n",
    "                                                             trajectory_id=trajectory_id, progress=True, **baks_config())\n",
    "    PF_dict = spikedata.place_fields(subset,  65., rate_bin_dict, trajectory, arena_id=arena_id,\n",
    "                                         trajectory_id=trajectory_id, progress=True, **pf_config())\n",
    "        \n",
    "    PF_arena_dicts[arena_id][subset] = PF_dict"
   ]
  },
  {
   "cell_type": "code",
   "execution_count": 46,
   "metadata": {},
   "outputs": [
    {
     "name": "stdout",
     "output_type": "stream",
     "text": [
      "18189\n",
      "10874\n"
     ]
    }
   ],
   "source": [
    "LPP_input_features_keys = set([ k for k in LPP_input_features.keys() if len(LPP_input_features[k]['X Offset']) > 0])\n",
    "print(len(LPP_input_features_keys))\n",
    "LPP_pf_keys = set([ k for k in PF_arena_dicts[arena_id]['LPP'].keys() if len(PF_arena_dicts[arena_id]['LPP'][k]['pf_x_locs']) > 0])\n",
    "print(len(LPP_pf_keys))"
   ]
  },
  {
   "cell_type": "code",
   "execution_count": 47,
   "metadata": {},
   "outputs": [
    {
     "name": "stdout",
     "output_type": "stream",
     "text": [
      "10874\n"
     ]
    }
   ],
   "source": [
    "LPP_pf_intersection = LPP_input_features_keys.intersection(LPP_pf_keys)\n",
    "print(len(LPP_pf_intersection))"
   ]
  },
  {
   "cell_type": "code",
   "execution_count": 57,
   "metadata": {},
   "outputs": [
    {
     "name": "stdout",
     "output_type": "stream",
     "text": [
      "33.7005168243749\n"
     ]
    }
   ],
   "source": [
    "LPP_pf_dists = []\n",
    "LPP_pf_dict = PF_arena_dicts[arena_id]['LPP']\n",
    "for gid in LPP_pf_intersection:\n",
    "    reference_x = LPP_input_features[gid]['X Offset']\n",
    "    reference_y = LPP_input_features[gid]['Y Offset']\n",
    "    result_x = LPP_pf_dict[gid]['pf_x_locs']\n",
    "    result_y = LPP_pf_dict[gid]['pf_y_locs']\n",
    "    reference_locs = np.column_stack((reference_x, reference_y))\n",
    "    result_locs = np.column_stack((result_x, result_y))\n",
    "    LPP_pf_dists.append(pf_dist(reference_locs, result_locs))\n",
    "LPP_pf_dists_array = np.asarray(sorted(LPP_pf_dists))\n"
   ]
  },
  {
   "cell_type": "code",
   "execution_count": 58,
   "metadata": {},
   "outputs": [
    {
     "name": "stdout",
     "output_type": "stream",
     "text": [
      "0.36732218159072977 370.01670394530595 33.7005168243749\n"
     ]
    },
    {
     "data": {
      "text/plain": [
       "[<matplotlib.lines.Line2D at 0x7f1a6a0ef358>]"
      ]
     },
     "execution_count": 58,
     "metadata": {},
     "output_type": "execute_result"
    },
    {
     "data": {
      "image/png": "[encoded data removed]",
      "text/plain": [
       "<Figure size 432x288 with 1 Axes>"
      ]
     },
     "metadata": {
      "needs_background": "light"
     },
     "output_type": "display_data"
    }
   ],
   "source": [
    "print(np.min(LPP_pf_dists_array), np.max(LPP_pf_dists_array), np.mean(LPP_pf_dists_array))\n",
    "plt.plot(LPP_pf_dists_array)"
   ]
  },
  {
   "cell_type": "code",
   "execution_count": 61,
   "metadata": {},
   "outputs": [
    {
     "name": "stdout",
     "output_type": "stream",
     "text": [
      "196901\n",
      "5501\n"
     ]
    }
   ],
   "source": [
    "GC_input_features_keys = set([ k for k in GC_input_features.keys() if len(GC_input_features[k]['X Offset']) > 0])\n",
    "print(len(GC_input_features_keys))\n",
    "GC_pf_keys = set([ k for k in PF_arena_dicts[arena_id]['GC'].keys() if len(PF_arena_dicts[arena_id]['GC'][k]['pf_x_locs']) > 0])\n",
    "print(len(GC_pf_keys))"
   ]
  },
  {
   "cell_type": "code",
   "execution_count": 62,
   "metadata": {},
   "outputs": [
    {
     "name": "stdout",
     "output_type": "stream",
     "text": [
      "1172\n"
     ]
    }
   ],
   "source": [
    "GC_pf_intersection = GC_input_features_keys.intersection(GC_pf_keys)\n",
    "print(len(GC_pf_intersection))"
   ]
  },
  {
   "cell_type": "code",
   "execution_count": 63,
   "metadata": {},
   "outputs": [],
   "source": [
    "GC_pf_dists = []\n",
    "GC_pf_dict = PF_arena_dicts[arena_id]['GC']\n",
    "for gid in GC_pf_intersection:\n",
    "    reference_x = GC_input_features[gid]['X Offset']\n",
    "    reference_y = GC_input_features[gid]['Y Offset']\n",
    "    result_x = GC_pf_dict[gid]['pf_x_locs']\n",
    "    result_y = GC_pf_dict[gid]['pf_y_locs']\n",
    "    reference_locs = np.column_stack((reference_x, reference_y))\n",
    "    result_locs = np.column_stack((result_x, result_y))\n",
    "    GC_pf_dists.append(pf_dist(reference_locs, result_locs))\n",
    "GC_pf_dists_array = np.asarray(sorted(GC_pf_dists))\n"
   ]
  },
  {
   "cell_type": "code",
   "execution_count": 64,
   "metadata": {},
   "outputs": [
    {
     "name": "stdout",
     "output_type": "stream",
     "text": [
      "1.954162025046514 477.9722084831298 100.44415783543657\n"
     ]
    },
    {
     "data": {
      "text/plain": [
       "[<matplotlib.lines.Line2D at 0x7f1a6a09cba8>]"
      ]
     },
     "execution_count": 64,
     "metadata": {},
     "output_type": "execute_result"
    },
    {
     "data": {
      "image/png": "[encoded data removed]",
      "text/plain": [
       "<Figure size 432x288 with 1 Axes>"
      ]
     },
     "metadata": {
      "needs_background": "light"
     },
     "output_type": "display_data"
    }
   ],
   "source": [
    "print(np.min(GC_pf_dists_array), np.max(GC_pf_dists_array), np.mean(GC_pf_dists_array))\n",
    "plt.plot(GC_pf_dists_array)"
   ]
  },
  {
   "cell_type": "code",
   "execution_count": null,
   "metadata": {},
   "outputs": [],
   "source": []
  }
 ],
 "metadata": {
  "kernelspec": {
   "display_name": "Python 3",
   "language": "python",
   "name": "python3"
  },
  "language_info": {
   "codemirror_mode": {
    "name": "ipython",
    "version": 3
   },
   "file_extension": ".py",
   "mimetype": "text/x-python",
   "name": "python",
   "nbconvert_exporter": "python",
   "pygments_lexer": "ipython3",
   "version": "3.6.8"
  }
 },
 "nbformat": 4,
 "nbformat_minor": 2
}
