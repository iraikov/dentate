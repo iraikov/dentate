{
 "cells": [
  {
   "cell_type": "code",
   "execution_count": 1,
   "metadata": {},
   "outputs": [],
   "source": [
    "\n",
    "import matplotlib.pyplot as plt\n",
    "from ipywidgets import *\n",
    "plt.style.use('ggplot')\n",
    "from neuron import h\n",
    "from dentate.neuron_utils import *\n",
    "from neuroh5.h5py_io_utils import *\n",
    "from dentate.env import Env\n",
    "from dentate.cells import *\n",
    "from dentate.synapses import *\n"
   ]
  },
  {
   "cell_type": "code",
   "execution_count": 2,
   "metadata": {},
   "outputs": [],
   "source": [
    "from dentate.cell_clamp import load_cell\n"
   ]
  },
  {
   "cell_type": "code",
   "execution_count": 5,
   "metadata": {},
   "outputs": [],
   "source": [
    "config_file='Small_Scale_Control_MC_BC.yaml'\n",
    "mech_file='20180831_BC_mech.yaml'\n",
    "config_prefix='../config'\n",
    "dataset_prefix='../datasets'\n",
    "template_paths='../templates'\n",
    "hoclib_path='..'"
   ]
  },
  {
   "cell_type": "code",
   "execution_count": 6,
   "metadata": {},
   "outputs": [
    {
     "name": "stdout",
     "output_type": "stream",
     "text": [
      "Small_Scale_Control_MC_BC.yaml\n",
      "('before templatePath: templatePaths = ', '../templates')\n",
      "('templatePaths = ', ['../templates'])\n",
      "('defs = ', {'Layers': {'MML': 3, 'IML': 2, 'GCL': 1, 'Hilus': 0, 'OML': 4}, 'Synapse Types': {'excitatory': 0, 'inhibitory': 1, 'modulatory': 2}, 'SWC Types': {'axon': 2, 'apical': 4, 'tuft': 6, 'soma': 1, 'hillock': 8, 'ais': 7, 'basal': 3, 'trunk': 5}, 'Populations': {'NGFC': 6, 'AAC': 4, 'MC': 1, 'BC': 3, 'IS': 7, 'MOPP': 8, 'LPP': 10, 'HCC': 5, 'GC': 0, 'MPP': 9, 'HC': 2}, 'Input Features': {'grid': 0, 'place': 1}, 'Synapse Mechanisms': {'GABA_B': 2, 'AMPA': 0, 'GABA_A': 1, 'NMDA': 30}})\n",
      "('self.datasetPrefix = ', '../datasets')\n",
      "('self.lfpConfig = ', {'Electrode 0': {'position': (-1205.5, 2700.3, -211.7), 'dt': 0.1, 'rho': 333.0, 'fraction': 0.1, 'maxEDist': 100.0}})\n"
     ]
    }
   ],
   "source": [
    "print(config_file)\n",
    "env = Env(comm=MPI.COMM_WORLD,configPrefix=config_prefix,configFile=config_file,templatePaths=template_paths,datasetPrefix=dataset_prefix,hoclibPath=hoclib_path)"
   ]
  },
  {
   "cell_type": "code",
   "execution_count": 7,
   "metadata": {},
   "outputs": [
    {
     "name": "stderr",
     "output_type": "stream",
     "text": [
      "WARNING:dentate.cells:get_biophys_cell: connection attributes not found for BC: gid: 1039000\n"
     ]
    },
    {
     "name": "stdout",
     "output_type": "stream",
     "text": [
      "before get_biophys_cell\n",
      "get_biophys_cell: cell = <dentate.cells.BiophysCell object at 0x7fb81ab0d650>\n",
      "mech_file_path = ../config/20180831_BC_mech.yaml\n"
     ]
    },
    {
     "ename": "AttributeError",
     "evalue": "'nrn.Section' object has no attribute 'gcakmult_CadepK'",
     "output_type": "error",
     "traceback": [
      "\u001b[0;31m---------------------------------------------------------------------------\u001b[0m",
      "\u001b[0;31mAttributeError\u001b[0m                            Traceback (most recent call last)",
      "\u001b[0;32m<ipython-input-7-38bcdcae4471>\u001b[0m in \u001b[0;36m<module>\u001b[0;34m()\u001b[0m\n\u001b[0;32m----> 1\u001b[0;31m \u001b[0mcell\u001b[0m \u001b[0;34m=\u001b[0m \u001b[0mload_cell\u001b[0m\u001b[0;34m(\u001b[0m\u001b[0menv\u001b[0m\u001b[0;34m,\u001b[0m\u001b[0;34m'BC'\u001b[0m\u001b[0;34m,\u001b[0m\u001b[0;36m1039000\u001b[0m\u001b[0;34m,\u001b[0m\u001b[0mmech_file\u001b[0m\u001b[0;34m,\u001b[0m\u001b[0mFalse\u001b[0m\u001b[0;34m)\u001b[0m\u001b[0;34m\u001b[0m\u001b[0m\n\u001b[0m",
      "\u001b[0;32m/home/igr/src/model/dentate/cell_clamp.pyc\u001b[0m in \u001b[0;36mload_cell\u001b[0;34m(env, pop_name, gid, mech_file, correct_for_spines)\u001b[0m\n\u001b[1;32m     31\u001b[0m     \u001b[0;32mprint\u001b[0m\u001b[0;34m(\u001b[0m\u001b[0;34m\"mech_file_path = %s\"\u001b[0m \u001b[0;34m%\u001b[0m \u001b[0mmech_file_path\u001b[0m\u001b[0;34m)\u001b[0m\u001b[0;34m\u001b[0m\u001b[0m\n\u001b[1;32m     32\u001b[0m     init_biophysics(cell, reset_cable=True, from_file=True, mech_file_path=mech_file_path,\n\u001b[0;32m---> 33\u001b[0;31m                     correct_cm=correct_for_spines, correct_g_pas=correct_for_spines, env=env)\n\u001b[0m\u001b[1;32m     34\u001b[0m     \u001b[0minit_syn_mech_attrs\u001b[0m\u001b[0;34m(\u001b[0m\u001b[0mcell\u001b[0m\u001b[0;34m,\u001b[0m \u001b[0menv\u001b[0m\u001b[0;34m)\u001b[0m\u001b[0;34m\u001b[0m\u001b[0m\n\u001b[1;32m     35\u001b[0m     \u001b[0mconfig_syns_from_mech_attrs\u001b[0m\u001b[0;34m(\u001b[0m\u001b[0mgid\u001b[0m\u001b[0;34m,\u001b[0m \u001b[0menv\u001b[0m\u001b[0;34m,\u001b[0m \u001b[0mpop_name\u001b[0m\u001b[0;34m,\u001b[0m \u001b[0minsert\u001b[0m\u001b[0;34m=\u001b[0m\u001b[0mTrue\u001b[0m\u001b[0;34m)\u001b[0m\u001b[0;34m\u001b[0m\u001b[0m\n",
      "\u001b[0;32m/home/igr/src/model/dentate/cells.pyc\u001b[0m in \u001b[0;36minit_biophysics\u001b[0;34m(cell, env, mech_file_path, reset_cable, from_file, correct_cm, correct_g_pas)\u001b[0m\n\u001b[1;32m    729\u001b[0m             \u001b[0;32mif\u001b[0m \u001b[0msec_type\u001b[0m \u001b[0;32min\u001b[0m \u001b[0mcell\u001b[0m\u001b[0;34m.\u001b[0m\u001b[0mmech_dict\u001b[0m \u001b[0;32mand\u001b[0m \u001b[0msec_type\u001b[0m \u001b[0;32min\u001b[0m \u001b[0mcell\u001b[0m\u001b[0;34m.\u001b[0m\u001b[0mnodes\u001b[0m\u001b[0;34m:\u001b[0m\u001b[0;34m\u001b[0m\u001b[0m\n\u001b[1;32m    730\u001b[0m                 \u001b[0;32mif\u001b[0m \u001b[0mcell\u001b[0m\u001b[0;34m.\u001b[0m\u001b[0mnodes\u001b[0m\u001b[0;34m[\u001b[0m\u001b[0msec_type\u001b[0m\u001b[0;34m]\u001b[0m\u001b[0;34m:\u001b[0m\u001b[0;34m\u001b[0m\u001b[0m\n\u001b[0;32m--> 731\u001b[0;31m                     \u001b[0mupdate_biophysics_by_sec_type\u001b[0m\u001b[0;34m(\u001b[0m\u001b[0mcell\u001b[0m\u001b[0;34m,\u001b[0m \u001b[0msec_type\u001b[0m\u001b[0;34m)\u001b[0m\u001b[0;34m\u001b[0m\u001b[0m\n\u001b[0m\u001b[1;32m    732\u001b[0m     \u001b[0;32mif\u001b[0m \u001b[0mcorrect_g_pas\u001b[0m\u001b[0;34m:\u001b[0m\u001b[0;34m\u001b[0m\u001b[0m\n\u001b[1;32m    733\u001b[0m         \u001b[0mcorrect_cell_for_spines_g_pas\u001b[0m\u001b[0;34m(\u001b[0m\u001b[0mcell\u001b[0m\u001b[0;34m,\u001b[0m \u001b[0menv\u001b[0m\u001b[0;34m)\u001b[0m\u001b[0;34m\u001b[0m\u001b[0m\n",
      "\u001b[0;32m/home/igr/src/model/dentate/cells.pyc\u001b[0m in \u001b[0;36mupdate_biophysics_by_sec_type\u001b[0;34m(cell, sec_type, reset_cable)\u001b[0m\n\u001b[1;32m    870\u001b[0m                 for mech_name in (mech_name for mech_name in cell.mech_dict[sec_type]\n\u001b[1;32m    871\u001b[0m                                   if mech_name not in ['cable', 'ions', 'synapses']):\n\u001b[0;32m--> 872\u001b[0;31m                     \u001b[0mupdate_mechanism_by_node\u001b[0m\u001b[0;34m(\u001b[0m\u001b[0mcell\u001b[0m\u001b[0;34m,\u001b[0m \u001b[0mnode\u001b[0m\u001b[0;34m,\u001b[0m \u001b[0mmech_name\u001b[0m\u001b[0;34m,\u001b[0m \u001b[0mcell\u001b[0m\u001b[0;34m.\u001b[0m\u001b[0mmech_dict\u001b[0m\u001b[0;34m[\u001b[0m\u001b[0msec_type\u001b[0m\u001b[0;34m]\u001b[0m\u001b[0;34m[\u001b[0m\u001b[0mmech_name\u001b[0m\u001b[0;34m]\u001b[0m\u001b[0;34m)\u001b[0m\u001b[0;34m\u001b[0m\u001b[0m\n\u001b[0m\u001b[1;32m    873\u001b[0m                 \u001b[0;31m# ion-related parameters do not exist until after membrane mechanisms have been inserted\u001b[0m\u001b[0;34m\u001b[0m\u001b[0;34m\u001b[0m\u001b[0m\n\u001b[1;32m    874\u001b[0m                 \u001b[0;32mif\u001b[0m \u001b[0;34m'ions'\u001b[0m \u001b[0;32min\u001b[0m \u001b[0mcell\u001b[0m\u001b[0;34m.\u001b[0m\u001b[0mmech_dict\u001b[0m\u001b[0;34m[\u001b[0m\u001b[0msec_type\u001b[0m\u001b[0;34m]\u001b[0m\u001b[0;34m:\u001b[0m\u001b[0;34m\u001b[0m\u001b[0m\n",
      "\u001b[0;32m/home/igr/src/model/dentate/cells.pyc\u001b[0m in \u001b[0;36mupdate_mechanism_by_node\u001b[0;34m(cell, node, mech_name, mech_content)\u001b[0m\n\u001b[1;32m   1010\u001b[0m             \u001b[0;31m# a single parameter\u001b[0m\u001b[0;34m\u001b[0m\u001b[0;34m\u001b[0m\u001b[0m\n\u001b[1;32m   1011\u001b[0m             \u001b[0;32mif\u001b[0m \u001b[0misinstance\u001b[0m\u001b[0;34m(\u001b[0m\u001b[0mmech_content\u001b[0m\u001b[0;34m[\u001b[0m\u001b[0mparam_name\u001b[0m\u001b[0;34m]\u001b[0m\u001b[0;34m,\u001b[0m \u001b[0mdict\u001b[0m\u001b[0;34m)\u001b[0m\u001b[0;34m:\u001b[0m\u001b[0;34m\u001b[0m\u001b[0m\n\u001b[0;32m-> 1012\u001b[0;31m                 \u001b[0mparse_mech_rules\u001b[0m\u001b[0;34m(\u001b[0m\u001b[0mcell\u001b[0m\u001b[0;34m,\u001b[0m \u001b[0mnode\u001b[0m\u001b[0;34m,\u001b[0m \u001b[0mmech_name\u001b[0m\u001b[0;34m,\u001b[0m \u001b[0mparam_name\u001b[0m\u001b[0;34m,\u001b[0m \u001b[0mmech_content\u001b[0m\u001b[0;34m[\u001b[0m\u001b[0mparam_name\u001b[0m\u001b[0;34m]\u001b[0m\u001b[0;34m)\u001b[0m\u001b[0;34m\u001b[0m\u001b[0m\n\u001b[0m\u001b[1;32m   1013\u001b[0m             \u001b[0;32melif\u001b[0m \u001b[0misinstance\u001b[0m\u001b[0;34m(\u001b[0m\u001b[0mmech_content\u001b[0m\u001b[0;34m[\u001b[0m\u001b[0mparam_name\u001b[0m\u001b[0;34m]\u001b[0m\u001b[0;34m,\u001b[0m \u001b[0mlist\u001b[0m\u001b[0;34m)\u001b[0m\u001b[0;34m:\u001b[0m\u001b[0;34m\u001b[0m\u001b[0m\n\u001b[1;32m   1014\u001b[0m                 \u001b[0;32mfor\u001b[0m \u001b[0mmech_content_entry\u001b[0m \u001b[0;32min\u001b[0m \u001b[0mmech_content\u001b[0m\u001b[0;34m[\u001b[0m\u001b[0mparam_name\u001b[0m\u001b[0;34m]\u001b[0m\u001b[0;34m:\u001b[0m\u001b[0;34m\u001b[0m\u001b[0m\n",
      "\u001b[0;32m/home/igr/src/model/dentate/cells.pyc\u001b[0m in \u001b[0;36mparse_mech_rules\u001b[0;34m(cell, node, mech_name, param_name, rules, donor)\u001b[0m\n\u001b[1;32m   1085\u001b[0m         \u001b[0mparse_custom_mech_rules\u001b[0m\u001b[0;34m(\u001b[0m\u001b[0mcell\u001b[0m\u001b[0;34m,\u001b[0m \u001b[0mnode\u001b[0m\u001b[0;34m,\u001b[0m \u001b[0mmech_name\u001b[0m\u001b[0;34m,\u001b[0m \u001b[0mparam_name\u001b[0m\u001b[0;34m,\u001b[0m \u001b[0mbaseline\u001b[0m\u001b[0;34m,\u001b[0m \u001b[0mrules\u001b[0m\u001b[0;34m,\u001b[0m \u001b[0mdonor\u001b[0m\u001b[0;34m)\u001b[0m\u001b[0;34m\u001b[0m\u001b[0m\n\u001b[1;32m   1086\u001b[0m     \u001b[0;32melse\u001b[0m\u001b[0;34m:\u001b[0m\u001b[0;34m\u001b[0m\u001b[0m\n\u001b[0;32m-> 1087\u001b[0;31m         \u001b[0mset_mech_param\u001b[0m\u001b[0;34m(\u001b[0m\u001b[0mcell\u001b[0m\u001b[0;34m,\u001b[0m \u001b[0mnode\u001b[0m\u001b[0;34m,\u001b[0m \u001b[0mmech_name\u001b[0m\u001b[0;34m,\u001b[0m \u001b[0mparam_name\u001b[0m\u001b[0;34m,\u001b[0m \u001b[0mbaseline\u001b[0m\u001b[0;34m,\u001b[0m \u001b[0mrules\u001b[0m\u001b[0;34m,\u001b[0m \u001b[0mdonor\u001b[0m\u001b[0;34m)\u001b[0m\u001b[0;34m\u001b[0m\u001b[0m\n\u001b[0m\u001b[1;32m   1088\u001b[0m \u001b[0;34m\u001b[0m\u001b[0m\n\u001b[1;32m   1089\u001b[0m \u001b[0;34m\u001b[0m\u001b[0m\n",
      "\u001b[0;32m/home/igr/src/model/dentate/cells.pyc\u001b[0m in \u001b[0;36mset_mech_param\u001b[0;34m(cell, node, mech_name, param_name, baseline, rules, donor)\u001b[0m\n\u001b[1;32m   1127\u001b[0m         \u001b[0;32melse\u001b[0m\u001b[0;34m:\u001b[0m\u001b[0;34m\u001b[0m\u001b[0m\n\u001b[1;32m   1128\u001b[0m             \u001b[0mnode\u001b[0m\u001b[0;34m.\u001b[0m\u001b[0msec\u001b[0m\u001b[0;34m.\u001b[0m\u001b[0minsert\u001b[0m\u001b[0;34m(\u001b[0m\u001b[0mmech_name\u001b[0m\u001b[0;34m)\u001b[0m\u001b[0;34m\u001b[0m\u001b[0m\n\u001b[0;32m-> 1129\u001b[0;31m             \u001b[0msetattr\u001b[0m\u001b[0;34m(\u001b[0m\u001b[0mnode\u001b[0m\u001b[0;34m.\u001b[0m\u001b[0msec\u001b[0m\u001b[0;34m,\u001b[0m \u001b[0mparam_name\u001b[0m \u001b[0;34m+\u001b[0m \u001b[0;34m\"_\"\u001b[0m \u001b[0;34m+\u001b[0m \u001b[0mmech_name\u001b[0m\u001b[0;34m,\u001b[0m \u001b[0mbaseline\u001b[0m\u001b[0;34m)\u001b[0m\u001b[0;34m\u001b[0m\u001b[0m\n\u001b[0m\u001b[1;32m   1130\u001b[0m     \u001b[0;32melif\u001b[0m \u001b[0mdonor\u001b[0m \u001b[0;32mis\u001b[0m \u001b[0mNone\u001b[0m\u001b[0;34m:\u001b[0m\u001b[0;34m\u001b[0m\u001b[0m\n\u001b[1;32m   1131\u001b[0m         raise RuntimeError('set_mech_param: cannot set value of mechanism: %s parameter: %s in sec_type: %s '\n",
      "\u001b[0;31mAttributeError\u001b[0m: 'nrn.Section' object has no attribute 'gcakmult_CadepK'"
     ]
    }
   ],
   "source": [
    "cell = load_cell(env,'BC',1039000,mech_file,False)"
   ]
  },
  {
   "cell_type": "code",
   "execution_count": null,
   "metadata": {},
   "outputs": [],
   "source": []
  },
  {
   "cell_type": "code",
   "execution_count": null,
   "metadata": {},
   "outputs": [],
   "source": []
  }
 ],
 "metadata": {
  "kernelspec": {
   "display_name": "Python 2",
   "language": "python",
   "name": "python2"
  },
  "language_info": {
   "codemirror_mode": {
    "name": "ipython",
    "version": 2
   },
   "file_extension": ".py",
   "mimetype": "text/x-python",
   "name": "python",
   "nbconvert_exporter": "python",
   "pygments_lexer": "ipython2",
   "version": "2.7.12"
  }
 },
 "nbformat": 4,
 "nbformat_minor": 1
}
