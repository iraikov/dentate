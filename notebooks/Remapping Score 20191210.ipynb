{
 "cells": [
  {
   "cell_type": "code",
   "execution_count": 1,
   "metadata": {},
   "outputs": [
    {
     "name": "stderr",
     "output_type": "stream",
     "text": [
      "/usr/lib/python3.6/importlib/_bootstrap.py:219: RuntimeWarning: compiletime version 3.5 of module '_yaml' does not match runtime version 3.6\n",
      "  return f(*args, **kwds)\n"
     ]
    }
   ],
   "source": [
    "import os, sys\n",
    "from os.path import expanduser\n",
    "from collections import defaultdict\n",
    "import numpy as np\n",
    "import matplotlib.pyplot as plt\n",
    "%matplotlib inline\n",
    "\n",
    "user_home = expanduser(\"~\")\n",
    "neuron_home = '%s/bin/nrnpython3/lib/python' % user_home\n",
    "model_home = '%s/src/model' % user_home\n",
    "dentate_home = '%s/dentate' % model_home\n",
    "datasets_home = '/media/igr/d865f900-7fcd-45c7-a7a7-bd2a7391bc40/Data/DG/'\n",
    "results_prefix = os.getenv('DG_RESULTS_DIR', '%s/results' % datasets_home)\n",
    "sys.path.append(neuron_home) \n",
    "sys.path.append(model_home) \n",
    "\n",
    "import neuroh5\n",
    "from neuroh5.io import read_population_ranges, read_population_names\n",
    "import dentate\n",
    "from dentate import utils, plot, stimulus, spikedata\n",
    "from dentate.env import Env\n",
    "from dentate.utils import Struct, zip_longest"
   ]
  },
  {
   "cell_type": "code",
   "execution_count": 2,
   "metadata": {},
   "outputs": [],
   "source": [
    "bin_size = 5.\n",
    "config_path = '%s/config/Full_Scale_Basis.yaml' % dentate_home\n",
    "template_path = '%s/templates' % dentate_home\n",
    "\n",
    "rel_spike_events_paths = ['Full_Scale_GC_Exc_Sat_DD_SLN_Diag_10618023.bw/dentatenet_Full_Scale_GC_Exc_Sat_DD_SLN_results_compressed.h5', \n",
    "                          'Full_Scale_GC_Exc_Sat_DD_SLN_Diag_remap_10619524.bw/dentatenet_Full_Scale_GC_Exc_Sat_DD_SLN_results_compressed.h5'\n",
    "                          ]\n",
    "\n",
    "trajectory_path = '%s/Full_Scale_Control/DG_remap_spike_trains_20191113_compressed.h5' % datasets_home\n",
    "\n",
    "spike_input_paths = [ '%s/%s' % (results_prefix, spike_events_path) for spike_events_path in rel_spike_events_paths ]\n",
    "spike_namespace_id = 'Spike Events'\n",
    "\n",
    "arena_ids = ['A', 'Remap A']\n",
    "trajectory_id = 'Diag'\n"
   ]
  },
  {
   "cell_type": "code",
   "execution_count": 13,
   "metadata": {},
   "outputs": [],
   "source": [
    "        \n",
    "baks_config = Struct(**{'BAKS Alpha': 4.77,'BAKS Beta': None})\n",
    "pf_config = Struct(**{'Minimum Width': 15., 'Minimum Rate': 1.0})\n",
    "\n",
    "env = None\n",
    "if config_path is not None:\n",
    "    env = Env(config_file=config_path, template_paths=template_path)\n",
    "    if env.analysis_config is not None:\n",
    "        baks_config.update(env.analysis_config['Firing Rate Inference'])\n",
    "        pf_config.update(env.analysis_config['Place Fields'])\n",
    "\n",
    "\n",
    "n_inputs = len(spike_input_paths)\n",
    "assert(n_inputs > 1)\n",
    "            \n",
    "spike_namespace_ids = [spike_namespace_id]*n_inputs\n",
    "\n",
    "assert(len(spike_namespace_ids) == n_inputs)\n",
    "assert(len(arena_ids) == n_inputs)\n",
    "            \n",
    "(population_ranges, N) = read_population_ranges(spike_input_paths[0])\n",
    "population_names = read_population_names(spike_input_paths[0])\n",
    "\n",
    "pop_num_cells = {}\n",
    "for k in population_names:\n",
    "    pop_num_cells[k] = population_ranges[k][1]\n",
    "\n",
    "populations = list(population_names)\n",
    "\n",
    "\n",
    "trajectory = stimulus.read_trajectory(trajectory_path, arena_ids[0], trajectory_id)"
   ]
  },
  {
   "cell_type": "code",
   "execution_count": 14,
   "metadata": {},
   "outputs": [
    {
     "name": "stdout",
     "output_type": "stream",
     "text": [
      "['AAC', 'BC', 'CA3c', 'GC', 'HC', 'HCC', 'IS', 'LPP', 'MC', 'MOPP', 'MPP', 'NGFC']\n",
      "(array([-107.5     , -107.47    , -107.44    , ...,   99.95566 ,\n",
      "         99.97687 ,   99.998085], dtype=float32), array([-100.      , -100.      , -100.      , ...,   99.95566 ,\n",
      "         99.97687 ,   99.998085], dtype=float32), array([ -7.5 ,  -7.47,  -7.44, ..., 282.78, 282.81, 282.84], dtype=float32), array([-250., -249., -248., ..., 9426., 9427., 9428.], dtype=float32))\n"
     ]
    }
   ],
   "source": [
    "print(populations)\n",
    "print(trajectory)"
   ]
  },
  {
   "cell_type": "code",
   "execution_count": 33,
   "metadata": {},
   "outputs": [
    {
     "name": "stdout",
     "output_type": "stream",
     "text": [
      "reading /media/igr/d865f900-7fcd-45c7-a7a7-bd2a7391bc40/Data/DG//results/Full_Scale_GC_Exc_Sat_DD_SLN_Diag_10618023.bw/dentatenet_Full_Scale_GC_Exc_Sat_DD_SLN_results_compressed.h5\n"
     ]
    },
    {
     "name": "stderr",
     "output_type": "stream",
     "text": [
      "100%|██████████| 33686/33686 [00:08<00:00, 4125.35it/s] \n",
      "100%|██████████| 33686/33686 [03:47<00:00, 148.34it/s]\n",
      "100%|██████████| 22865/22865 [00:40<00:00, 563.38it/s] \n",
      "100%|██████████| 22865/22865 [02:32<00:00, 150.16it/s]\n"
     ]
    },
    {
     "name": "stdout",
     "output_type": "stream",
     "text": [
      "reading /media/igr/d865f900-7fcd-45c7-a7a7-bd2a7391bc40/Data/DG//results/Full_Scale_GC_Exc_Sat_DD_SLN_Diag_remap_10619524.bw/dentatenet_Full_Scale_GC_Exc_Sat_DD_SLN_results_compressed.h5\n"
     ]
    },
    {
     "name": "stderr",
     "output_type": "stream",
     "text": [
      "100%|██████████| 4192/4192 [00:00<00:00, 11333.17it/s]\n",
      "100%|██████████| 4192/4192 [00:28<00:00, 144.93it/s]\n",
      "100%|██████████| 17825/17825 [00:36<00:00, 490.47it/s] \n",
      "100%|██████████| 17825/17825 [01:58<00:00, 150.69it/s]\n"
     ]
    }
   ],
   "source": [
    "\n",
    "populations=['GC', 'MC']\n",
    "PF_arena_dicts = defaultdict(lambda: defaultdict(lambda: None))\n",
    "for spike_input_path, spike_namespace_id, arena_id in zip_longest(spike_input_paths, spike_namespace_ids, arena_ids):\n",
    "        \n",
    "    this_spike_namespace = '%s %s %s' % (spike_namespace_id, arena_id, trajectory_id)\n",
    "    this_spike_namespace = spike_namespace_id\n",
    "    print('reading %s' % spike_input_path)\n",
    "    spkdata = spikedata.read_spike_events(spike_input_path, populations, this_spike_namespace,\n",
    "                                          spike_train_attr_name='t', time_range=[500., 9500.])\n",
    "\n",
    "    spkpoplst = spkdata['spkpoplst']\n",
    "    spkindlst = spkdata['spkindlst']\n",
    "    spktlst = spkdata['spktlst']\n",
    "    num_cell_spks = spkdata['num_cell_spks']\n",
    "    pop_active_cells = spkdata['pop_active_cells']\n",
    "    tmin = spkdata['tmin']\n",
    "    tmax = spkdata['tmax']\n",
    "\n",
    "    time_range = [tmin, tmax]\n",
    "    time_bins  = np.arange(time_range[0], time_range[1], bin_size)\n",
    "\n",
    "    for i, subset in enumerate(spkpoplst):\n",
    "\n",
    "        spkts         = spktlst[i]\n",
    "        spkinds       = spkindlst[i]\n",
    "        spkdict       = spikedata.make_spike_dict(spkinds, spkts)\n",
    "\n",
    "        rate_bin_dict = spikedata.spike_density_estimate(subset, spkdict, time_bins, arena_id=arena_id,\n",
    "                                                             trajectory_id=trajectory_id, progress=True, **baks_config())\n",
    "        PF_dict = spikedata.place_fields(subset,  65., rate_bin_dict, trajectory, arena_id=arena_id,\n",
    "                                         trajectory_id=trajectory_id, progress=True, **pf_config())\n",
    "        \n",
    "        PF_arena_dicts[arena_id][subset] = PF_dict\n",
    "\n",
    " "
   ]
  },
  {
   "cell_type": "code",
   "execution_count": 34,
   "metadata": {},
   "outputs": [
    {
     "name": "stdout",
     "output_type": "stream",
     "text": [
      "5503\n",
      "292\n",
      "120\n"
     ]
    }
   ],
   "source": [
    "GC_cells_A = set([k for k in PF_arena_dicts['A']['GC'].keys() if PF_arena_dicts['A']['GC'][k]['pf_count'] > 0])\n",
    "GC_cells_A_remap = set([k for k in PF_arena_dicts['Remap A']['GC'].keys() if PF_arena_dicts['Remap A']['GC'][k]['pf_count'] > 0])\n",
    "\n",
    "print(len(GC_cells_A))\n",
    "print(len(GC_cells_A_remap))\n",
    "\n",
    "GC_A_remap_intersection = GC_cells_A.intersection(GC_cells_A_remap)\n",
    "print(len(GC_A_remap_intersection))"
   ]
  },
  {
   "cell_type": "code",
   "execution_count": 35,
   "metadata": {},
   "outputs": [
    {
     "name": "stdout",
     "output_type": "stream",
     "text": [
      "15107\n",
      "11914\n",
      "9082\n"
     ]
    }
   ],
   "source": [
    "MC_cells_A = set([k for k in PF_arena_dicts['A']['MC'].keys() if PF_arena_dicts['A']['MC'][k]['pf_count'] > 0])\n",
    "MC_cells_A_remap = set([k for k in PF_arena_dicts['Remap A']['MC'].keys() if PF_arena_dicts['Remap A']['MC'][k]['pf_count'] > 0])\n",
    "\n",
    "print(len(MC_cells_A))\n",
    "print(len(MC_cells_A_remap))\n",
    "\n",
    "MC_A_remap_intersection = MC_cells_A.intersection(MC_cells_A_remap)\n",
    "print(len(MC_A_remap_intersection))"
   ]
  },
  {
   "cell_type": "code",
   "execution_count": 36,
   "metadata": {},
   "outputs": [
    {
     "name": "stdout",
     "output_type": "stream",
     "text": [
      "{'pf_count': array([1], dtype=uint32), 'pf_mean_width': array([40.949997], dtype=float32), 'pf_mean_rate': array([1.0186007], dtype=float32), 'pf_peak_rate': array([1.0686725], dtype=float32), 'pf_mean_norm_rate': array([0.7759876], dtype=float32), 'pf_x_locs': [29.880490243434906], 'pf_y_locs': [29.880490243434906]}\n"
     ]
    }
   ],
   "source": [
    "GC_first_gid_A = next(iter(GC_cells_A))\n",
    "print(PF_arena_dicts['A']['GC'][GC_first_gid_A])"
   ]
  },
  {
   "cell_type": "code",
   "execution_count": 37,
   "metadata": {},
   "outputs": [
    {
     "name": "stdout",
     "output_type": "stream",
     "text": [
      "{'pf_count': array([1], dtype=uint32), 'pf_mean_width': array([31.200005], dtype=float32), 'pf_mean_rate': array([2.675638], dtype=float32), 'pf_peak_rate': array([3.09439], dtype=float32), 'pf_mean_norm_rate': array([2.0353608], dtype=float32), 'pf_x_locs': [-60.434722661972046], 'pf_y_locs': [-60.434722661972046]}\n"
     ]
    }
   ],
   "source": [
    "MC_first_gid_A = next(iter(MC_cells_A))\n",
    "\n",
    "print(PF_arena_dicts['A']['MC'][MC_first_gid_A])"
   ]
  },
  {
   "cell_type": "code",
   "execution_count": 38,
   "metadata": {},
   "outputs": [
    {
     "name": "stdout",
     "output_type": "stream",
     "text": [
      "121\n",
      "121\n",
      "[[ 1.        -0.1855617]\n",
      " [-0.1855617  1.       ]]\n"
     ]
    }
   ],
   "source": [
    "A_pf_dict = PF_arena_dicts['A']['GC']\n",
    "A_remap_pf_dict = PF_arena_dicts['Remap A']['GC']\n",
    "x_locs = []\n",
    "remap_x_locs = []\n",
    "for gid in GC_A_remap_intersection:\n",
    "    \n",
    "    A_pf_locs = A_pf_dict[gid]['pf_x_locs']\n",
    "    A_remap_pf_locs = A_remap_pf_dict[gid]['pf_x_locs']\n",
    "    if len(A_pf_locs) == len(A_remap_pf_locs):\n",
    "        x_locs.append(A_pf_locs)\n",
    "        remap_x_locs.append(A_remap_pf_locs)\n",
    "    else:\n",
    "        x_locs.append(np.asarray([A_pf_locs[0]]))\n",
    "        remap_x_locs.append(np.asarray([A_remap_pf_locs[0]]))\n",
    "    \n",
    "x_locs_array = np.concatenate(x_locs)\n",
    "remap_x_locs_array = np.concatenate(remap_x_locs)\n",
    "print(len(x_locs_array))\n",
    "print(len(remap_x_locs_array))\n",
    "print(np.corrcoef(x_locs_array, remap_x_locs_array))\n"
   ]
  },
  {
   "cell_type": "code",
   "execution_count": 40,
   "metadata": {},
   "outputs": [
    {
     "name": "stdout",
     "output_type": "stream",
     "text": [
      "9221\n",
      "9221\n",
      "[[1.         0.02238542]\n",
      " [0.02238542 1.        ]]\n"
     ]
    }
   ],
   "source": [
    "A_pf_dict = PF_arena_dicts['A']['MC']\n",
    "A_remap_pf_dict = PF_arena_dicts['Remap A']['MC']\n",
    "x_locs = []\n",
    "remap_x_locs = []\n",
    "for gid in MC_A_remap_intersection:\n",
    "    \n",
    "    A_pf_locs = A_pf_dict[gid]['pf_x_locs']\n",
    "    A_remap_pf_locs = A_remap_pf_dict[gid]['pf_x_locs']\n",
    "    if len(A_pf_locs) == len(A_remap_pf_locs):\n",
    "        x_locs.append(A_pf_locs)\n",
    "        remap_x_locs.append(A_remap_pf_locs)\n",
    "    else:\n",
    "        x_locs.append(np.asarray([A_pf_locs[0]]))\n",
    "        remap_x_locs.append(np.asarray([A_remap_pf_locs[0]]))\n",
    "    \n",
    "x_locs_array = np.concatenate(x_locs)\n",
    "remap_x_locs_array = np.concatenate(remap_x_locs)\n",
    "print(len(x_locs_array))\n",
    "print(len(remap_x_locs_array))\n",
    "print(np.corrcoef(x_locs_array, remap_x_locs_array))"
   ]
  },
  {
   "cell_type": "code",
   "execution_count": null,
   "metadata": {},
   "outputs": [],
   "source": []
  }
 ],
 "metadata": {
  "kernelspec": {
   "display_name": "Python 2",
   "language": "python",
   "name": "python2"
  },
  "language_info": {
   "codemirror_mode": {
    "name": "ipython",
    "version": 3
   },
   "file_extension": ".py",
   "mimetype": "text/x-python",
   "name": "python",
   "nbconvert_exporter": "python",
   "pygments_lexer": "ipython3",
   "version": "3.6.8"
  }
 },
 "nbformat": 4,
 "nbformat_minor": 1
}
