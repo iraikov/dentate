{
 "cells": [
  {
   "cell_type": "code",
   "execution_count": null,
   "metadata": {},
   "outputs": [],
   "source": [
    "%matplotlib inline\n",
    "import sys, os, time, gc, click, logging, pprint\n",
    "from os.path import expanduser\n"
   ]
  },
  {
   "cell_type": "code",
   "execution_count": null,
   "metadata": {},
   "outputs": [],
   "source": [
    "%cd .."
   ]
  },
  {
   "cell_type": "code",
   "execution_count": null,
   "metadata": {},
   "outputs": [],
   "source": [
    "user_home = expanduser(\"~\")\n",
    "neuron_home = f'{user_home}/bin/nrnpython/lib/python'\n",
    "model_home = f'{user_home}/src/model'\n",
    "dentate_home = f'{model_home}/dentate' \n",
    "template_paths=f'{dentate_home}/templates'\n",
    "config_prefix=f'{dentate_home}/config'\n",
    "dataset_prefix='/media/igr/d865f900-7fcd-45c7-a7a7-bd2a7391bc40/Data/DG'"
   ]
  },
  {
   "cell_type": "code",
   "execution_count": null,
   "metadata": {},
   "outputs": [],
   "source": [
    "import yaml\n",
    "# creates 1) a yaml with synaptic parameters that have been optimized for selectivity\n",
    "# 2) yaml with the same set of parameters as 1) but structured weight scaling factor set to 0\n",
    "# format is { population : { gid: parameter list }}\n",
    "# where parameter has the format: \n",
    "# postsynaptic pop., presynaptic populations, section type, receptor type, mechanism parameter, value\n",
    "#\n",
    "optimize_selectivity_params = \\\n",
    "{'GC': {111746: [['GC', ['BC', 'HCC', 'HC'], 'apical', 'GABA_A', 'weight', 0.20083801445743016],\n",
    "                 ['GC', ['MC', 'ConMC'], 'apical', 'AMPA', ['weight', 'a'], 4.998258420749726],\n",
    "                 ['GC', ['MPP', 'LPP'], 'apical', 'AMPA', ['weight', 'a'], 7.293403167741996],\n",
    "                 ['GC', ['NGFC', 'MOPP'], 'apical', 'GABA_A', 'weight', 0.24140888269815286],\n",
    "                 ['GC', 'AAC', 'ais', 'GABA_A', 'weight', 0.4534828996636781],\n",
    "                 ['GC', 'BC', 'soma', 'GABA_A', 'weight', 0.412666789881585],\n",
    "                 ['GC', 'NGFC', 'apical', 'GABA_B', 'weight', 0.005842658847846803]]}}\n",
    "with open('selectivity_params_GC_111746_20210325.yaml', 'w') as f:\n",
    "    yaml.dump(optimize_selectivity_params, f)\n",
    "    \n",
    "no_structured_weights_selectivity_params = \\\n",
    "{'GC': {111746: [['GC', ['BC', 'HCC', 'HC'], 'apical', 'GABA_A', 'weight', 0.20083801445743016],\n",
    "                 ['GC', ['MC', 'ConMC'], 'apical', 'AMPA', ['weight', 'a'], 1.0],\n",
    "                 ['GC', ['MPP', 'LPP'], 'apical', 'AMPA', ['weight', 'a'], 0.0],\n",
    "                 ['GC', ['NGFC', 'MOPP'], 'apical', 'GABA_A', 'weight', 0.24140888269815286],\n",
    "                 ['GC', 'AAC', 'ais', 'GABA_A', 'weight', 0.4534828996636781],\n",
    "                 ['GC', 'BC', 'soma', 'GABA_A', 'weight', 0.412666789881585],\n",
    "                 ['GC', 'NGFC', 'apical', 'GABA_B', 'weight', 0.005842658847846803]]}}\n",
    "with open('no_structured_weights_selectivity_params_GC_111746_20210325.yaml', 'w') as f:\n",
    "    yaml.dump(no_structured_weights_selectivity_params, f)"
   ]
  },
  {
   "cell_type": "markdown",
   "metadata": {},
   "source": [
    "### Simulation with structured weights and synaptic paramters optimized for selectivity"
   ]
  },
  {
   "cell_type": "code",
   "execution_count": null,
   "metadata": {
    "scrolled": true
   },
   "outputs": [],
   "source": [
    "%run network_clamp.py go  -c Network_Clamp_GC_Exc_Sat_SLN_IN_Izh_extent.yaml \\\n",
    "         -p GC -g 111746  -t 9500 \\\n",
    "         --template-paths templates:{user_home}/src/model/DGC/Mateos-Aparicio2014 \\\n",
    "         --dataset-prefix {dataset_prefix} \\\n",
    "         --input-features-path {dataset_prefix}/Full_Scale_Control/DG_input_features_20200910_compressed.h5 \\\n",
    "         --input-features-namespaces 'Place Selectivity' \\\n",
    "         --input-features-namespaces 'Grid Selectivity' \\\n",
    "         --input-features-namespaces 'Constant Selectivity' \\\n",
    "         --arena-id A --trajectory-id Diag  --n-trials 1 \\\n",
    "         --recording-profile 'Network clamp default' \\\n",
    "         --use-coreneuron \\\n",
    "         --config-prefix config  --results-path results/netclamp \\\n",
    "         --results-file-id \"demo\" \\\n",
    "         --params-path selectivity_params_GC_111746_20210325.yaml"
   ]
  },
  {
   "cell_type": "code",
   "execution_count": null,
   "metadata": {
    "scrolled": false
   },
   "outputs": [],
   "source": [
    "%run scripts/plot_network_clamp.py -v -g 111746 --t-max=9500. \\\n",
    "-p results/netclamp/Single_GC_Exc_Sat_SLN_IN_Izh_extent_results_demo_selectivity_params_GC_111746_20210325.h5 \\\n",
    "--state-variable v --lowpass-plot-type=subplot \\\n",
    "-i MPP -i LPP -i MC -i ConMC -i GC \\\n",
    "--target-input-features-path={dataset_prefix}/Slice/dentatenet_Full_Scale_GC_Exc_Sat_SLN_extent_arena_margin_20210106a_compressed.h5 \\\n",
    "--config-file Network_Clamp_GC_Exc_Sat_SLN_IN_Izh_extent.yaml \\\n",
    "--target-input-features-arena-id=A \\\n",
    "--target-input-features-trajectory-id=Diag \\\n",
    "--font-size 18 \\\n",
    "--line-width 2\n"
   ]
  },
  {
   "cell_type": "markdown",
   "metadata": {},
   "source": [
    "### Simulation without structured weights and synaptic paramters optimized for selectivity"
   ]
  },
  {
   "cell_type": "code",
   "execution_count": null,
   "metadata": {},
   "outputs": [],
   "source": [
    "%run network_clamp.py go  -c Network_Clamp_GC_Exc_Sat_SLN_IN_Izh_extent.yaml \\\n",
    "         -p GC -g 111746  -t 9500 \\\n",
    "         --template-paths templates:{user_home}/src/model/DGC/Mateos-Aparicio2014 \\\n",
    "         --dataset-prefix {dataset_prefix} \\\n",
    "         --input-features-path {dataset_prefix}/Full_Scale_Control/DG_input_features_20200910_compressed.h5 \\\n",
    "         --input-features-namespaces 'Place Selectivity' \\\n",
    "         --input-features-namespaces 'Grid Selectivity' \\\n",
    "         --input-features-namespaces 'Constant Selectivity' \\\n",
    "         --arena-id A --trajectory-id Diag  --n-trials 1 \\\n",
    "         --recording-profile 'Network clamp default' \\\n",
    "         --use-coreneuron \\\n",
    "         --config-prefix config  --results-path results/netclamp \\\n",
    "         --results-file-id \"demo\" \\\n",
    "         --params-path no_structured_weights_selectivity_params_GC_111746_20210325.yaml"
   ]
  },
  {
   "cell_type": "code",
   "execution_count": null,
   "metadata": {
    "scrolled": false
   },
   "outputs": [],
   "source": [
    "%run scripts/plot_network_clamp.py -v -g 111746 --t-max=9500. \\\n",
    "-p results/netclamp/Single_GC_Exc_Sat_SLN_IN_Izh_extent_results_demo_no_structured_weights_selectivity_params_GC_111746_20210325.h5 \\\n",
    "--state-variable v --lowpass-plot-type=subplot \\\n",
    "-i MPP -i LPP -i MC -i ConMC -i GC \\\n",
    "--target-input-features-path={dataset_prefix}/Slice/dentatenet_Full_Scale_GC_Exc_Sat_SLN_extent_arena_margin_20210106a_compressed.h5 \\\n",
    "--config-file Network_Clamp_GC_Exc_Sat_SLN_IN_Izh_extent.yaml \\\n",
    "--target-input-features-arena-id=A \\\n",
    "--target-input-features-trajectory-id=Diag \\\n",
    "--font-size 18 \\\n",
    "--line-width 2\n"
   ]
  },
  {
   "cell_type": "code",
   "execution_count": null,
   "metadata": {},
   "outputs": [],
   "source": []
  }
 ],
 "metadata": {
  "kernelspec": {
   "display_name": "Python 3",
   "language": "python",
   "name": "python3"
  },
  "language_info": {
   "codemirror_mode": {
    "name": "ipython",
    "version": 3
   },
   "file_extension": ".py",
   "mimetype": "text/x-python",
   "name": "python",
   "nbconvert_exporter": "python",
   "pygments_lexer": "ipython3",
   "version": "3.6.8"
  }
 },
 "nbformat": 4,
 "nbformat_minor": 2
}
