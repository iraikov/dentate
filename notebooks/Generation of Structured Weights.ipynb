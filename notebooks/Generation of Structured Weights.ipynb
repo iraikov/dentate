{
 "cells": [
  {
   "cell_type": "code",
   "execution_count": 2,
   "metadata": {},
   "outputs": [],
   "source": [
    "import sys, os, time, gc, click, logging, pprint\n",
    "from os.path import expanduser\n",
    "from collections import defaultdict\n",
    "import numpy as np\n",
    "from mpi4py import MPI\n",
    "import neuroh5\n",
    "from neuroh5.io import append_cell_attributes, read_population_ranges, bcast_cell_attributes, \\\n",
    "    scatter_read_cell_attributes, read_cell_attribute_selection, NeuroH5ProjectionGen\n",
    "import h5py\n"
   ]
  },
  {
   "cell_type": "code",
   "execution_count": 3,
   "metadata": {},
   "outputs": [
    {
     "name": "stderr",
     "output_type": "stream",
     "text": [
      "/usr/lib/python3.6/importlib/_bootstrap.py:219: RuntimeWarning: compiletime version 3.5 of module '_yaml' does not match runtime version 3.6\n",
      "  return f(*args, **kwds)\n"
     ]
    }
   ],
   "source": [
    "user_home = expanduser(\"~\")\n",
    "neuron_home = '%s/bin/nrnpython/lib/python' % user_home\n",
    "model_home = '%s/src/model' % user_home\n",
    "dentate_home = '%s/dentate' % model_home\n",
    "sys.path.append(neuron_home) \n",
    "sys.path.append(model_home) \n",
    "\n",
    "import dentate\n",
    "from dentate.env import Env\n",
    "from dentate import utils, stimulus, synapses\n",
    "from dentate.utils import *"
   ]
  },
  {
   "cell_type": "code",
   "execution_count": 4,
   "metadata": {},
   "outputs": [],
   "source": [
    "template_paths='%s/templates' % dentate_home\n",
    "dataset_prefix='%s/datasets' % dentate_home\n",
    "config_prefix='%s/config' % dentate_home\n"
   ]
  },
  {
   "cell_type": "code",
   "execution_count": 5,
   "metadata": {},
   "outputs": [],
   "source": [
    "destination = 'GC'\n",
    "sources = ['MPP', 'LPP']\n",
    "const_sources = ['MC']\n",
    "synapse_name='AMPA'\n",
    "config_file='Network_Clamp_GC_Exc_Sat_SLN_extent.yaml'\n",
    "output_weights_namespace='Structured Weights'\n",
    "h5types_path='%s/dentate_h5types.h5' % dataset_prefix\n",
    "connections_path='%s/Slice/dentatenet_Full_Scale_GC_Exc_Sat_DD_SLN_extent_20200606.h5' % dataset_prefix\n",
    "input_features_path=\"%s/DG_input_features_20200321_compressed.h5\" % dataset_prefix\n",
    "initial_weights_namespace=\"Log-Normal Weights\"\n",
    "initial_weights_path='%s/Slice/dentatenet_Full_Scale_GC_Exc_Sat_DD_SLN_extent_20200606.h5' % dataset_prefix\n",
    "\n",
    "arena_id='A' \n",
    "use_arena_margin=True\n",
    "coordinates=(0.0, 0.0) \n",
    "optimize_tol=1e-3\n",
    "optimize_grad=True\n",
    "max_delta_weight=8\n",
    "gid=47123\n",
    "field_width_scale = 1.25\n",
    "target_amplitude=3.0\n",
    "initial_weight_decay_fraction=1."
   ]
  },
  {
   "cell_type": "code",
   "execution_count": 6,
   "metadata": {},
   "outputs": [],
   "source": [
    "\n",
    "\n",
    "np.seterr(all='raise')\n",
    "os.chdir(dentate_home)\n",
    "env = Env(config_prefix=config_prefix,config_file=config_file,template_paths=template_paths,dataset_prefix=dataset_prefix)\n"
   ]
  },
  {
   "cell_type": "code",
   "execution_count": 7,
   "metadata": {},
   "outputs": [],
   "source": [
    "input_features_namespaces = ['Place Selectivity', 'Grid Selectivity']\n",
    "this_input_features_namespaces = ['%s %s' % (input_features_namespace, arena_id) \n",
    "                                  for input_features_namespace in input_features_namespaces]\n",
    "\n",
    "selectivity_type_index = { i: n for n, i in viewitems(env.selectivity_types) }\n",
    "target_selectivity_type_name = 'place'\n",
    "target_selectivity_type = env.selectivity_types[target_selectivity_type_name]\n",
    "features_attrs = defaultdict(dict)\n",
    "source_features_attr_names = ['Selectivity Type', 'Num Fields', 'Field Width', 'Peak Rate',\n",
    "                                  'Module ID', 'Grid Spacing', 'Grid Orientation', 'Field Width Concentration Factor', \n",
    "                                  'X Offset', 'Y Offset']\n",
    "target_features_attr_names = ['Selectivity Type', 'Num Fields', 'Field Width', 'Peak Rate', \n",
    "                                  'X Offset', 'Y Offset']\n",
    "\n",
    "local_random = np.random.RandomState()\n",
    "\n",
    "seed_offset = int(env.model_config['Random Seeds']['GC Structured Weights'])\n",
    "spatial_resolution = env.stimulus_config['Spatial Resolution'] # cm\n",
    "\n",
    "arena = env.stimulus_config['Arena'][arena_id]\n",
    "default_run_vel = arena.properties['default run velocity']  # cm/s\n",
    "\n",
    "gid_count = 0\n",
    "target_gid_set = set([gid])\n",
    "all_sources = sources + const_sources\n",
    " "
   ]
  },
  {
   "cell_type": "code",
   "execution_count": 8,
   "metadata": {},
   "outputs": [],
   "source": [
    "connection_gen_list = [ NeuroH5ProjectionGen(connections_path, source, destination, namespaces=['Synapses']) \n",
    "                        for source in all_sources ]\n",
    "field_width = None\n",
    "peak_rate = None\n",
    "structured_weights_dict = {}\n",
    "\n",
    "for iter_count, attr_gen_package in enumerate(zip_longest(*connection_gen_list)):\n",
    "        \n",
    "        this_gid = attr_gen_package[0][0]\n",
    "        if not all([attr_gen_items[0] == this_gid for attr_gen_items in attr_gen_package]):\n",
    "            raise Exception('destination: %s; this_gid not matched across multiple attribute '\n",
    "                            'generators: %s' % (destination,\n",
    "                                                [attr_gen_items[0] for attr_gen_items in attr_gen_package]))\n",
    "        \n",
    "        if (target_gid_set is not None) and (this_gid not in target_gid_set):\n",
    "            continue\n",
    "\n",
    "\n",
    "        if this_gid is None:\n",
    "            selection = []\n",
    "            logger.info('received None')\n",
    "        else:\n",
    "            selection = [this_gid]\n",
    "            local_random.seed(int(this_gid + seed_offset))\n",
    "\n",
    "        has_structured_weights = False\n",
    "\n",
    "        dst_input_features_attr_dict = {}\n",
    "        for input_features_namespace in this_input_features_namespaces:\n",
    "            input_features_iter = read_cell_attribute_selection(input_features_path, destination, \n",
    "                                                                namespace=input_features_namespace,\n",
    "                                                                mask=set(target_features_attr_names), \n",
    "                                                                selection=selection)\n",
    "            count = 0\n",
    "            for gid, attr_dict in input_features_iter:\n",
    "                dst_input_features_attr_dict[gid] = attr_dict\n",
    "                count += 1\n",
    "            logger.info('Read %s feature data for %i cells in population %s' % (input_features_namespace, count, destination))\n",
    "\n",
    "        arena_margin = 0.\n",
    "        target_selectivity_features_dict = {}\n",
    "        target_selectivity_config_dict = {}\n",
    "        target_field_width_dict = {}\n",
    "        for gid in selection:\n",
    "            target_selectivity_features_dict[gid] = dst_input_features_attr_dict.get(gid, {})\n",
    "            target_selectivity_features_dict[gid]['Selectivity Type'] = np.asarray([target_selectivity_type], dtype=np.uint8)\n",
    "\n",
    "            num_fields = target_selectivity_features_dict[gid]['Num Fields'][0]\n",
    "            \n",
    "            if coordinates[0] is not None:\n",
    "                num_fields = 1\n",
    "                target_selectivity_features_dict[gid]['X Offset'] =  np.asarray([coordinates[0]], dtype=np.float32)\n",
    "                target_selectivity_features_dict[gid]['Y Offset'] =  np.asarray([coordinates[1]], dtype=np.float32)\n",
    "                target_selectivity_features_dict[gid]['Num Fields'] = np.asarray([num_fields], dtype=np.uint8)\n",
    "\n",
    "            if field_width is not None:\n",
    "                target_selectivity_features_dict[gid]['Field Width'] = np.asarray([field_width]*num_fields, dtype=np.float32)\n",
    "            else:\n",
    "                this_field_width = target_selectivity_features_dict[gid]['Field Width']\n",
    "                target_selectivity_features_dict[gid]['Field Width'] = this_field_width[:num_fields]\n",
    "                \n",
    "            if peak_rate is not None:\n",
    "                target_selectivity_features_dict[gid]['Peak Rate'] = np.asarray([peak_rate]*num_fields, dtype=np.float32)\n",
    "\n",
    "            input_cell_config = stimulus.get_input_cell_config(target_selectivity_type,\n",
    "                                                               selectivity_type_index,\n",
    "                                                               selectivity_attr_dict=target_selectivity_features_dict[gid])\n",
    "            if input_cell_config.num_fields > 0:\n",
    "                arena_margin = max(arena_margin, np.max(input_cell_config.field_width) / 2.) if use_arena_margin else 0.\n",
    "                target_field_width_dict[gid] = input_cell_config.field_width\n",
    "                target_selectivity_config_dict[gid] = input_cell_config\n",
    "                has_structured_weights = True\n",
    "\n",
    "        arena_x, arena_y = stimulus.get_2D_arena_spatial_mesh(arena, spatial_resolution,\n",
    "                                                              margin=arena_margin)\n",
    "        for gid, input_cell_config in viewitems(target_selectivity_config_dict):\n",
    "            target_map = np.asarray(input_cell_config.get_rate_map(arena_x, arena_y,\n",
    "                                                                   scale=field_width_scale),\n",
    "                                    dtype=np.float32)\n",
    "            target_selectivity_features_dict[gid]['Arena Rate Map'] = target_map\n",
    "\n",
    "                \n",
    "        if not has_structured_weights:\n",
    "            selection = []\n",
    "                \n",
    "        initial_weights_by_syn_id_dict = defaultdict(lambda: dict())\n",
    "        initial_weights_by_source_gid_dict = defaultdict(lambda: dict())\n",
    "        if initial_weights_path is not None:\n",
    "            initial_weights_iter = \\\n",
    "              read_cell_attribute_selection(initial_weights_path, destination,\n",
    "                                            namespace=initial_weights_namespace,\n",
    "                                            selection=selection)\n",
    "\n",
    "            initial_weights_gid_count = 0\n",
    "            for this_gid, syn_weight_attr_dict in initial_weights_iter:\n",
    "                syn_ids = syn_weight_attr_dict['syn_id']\n",
    "                weights = syn_weight_attr_dict[synapse_name]\n",
    "\n",
    "                for (syn_id, weight) in zip(syn_ids, weights):\n",
    "                    initial_weights_by_syn_id_dict[this_gid][int(syn_id)] = float(weight)\n",
    "                initial_weights_gid_count += 1\n",
    "\n",
    "            logger.info('destination: %s; read initial synaptic weights for %i gids' %\n",
    "                        (destination, initial_weights_gid_count))\n",
    "            \n",
    "             \n",
    "\n",
    "        syn_count_by_source_gid_dict = defaultdict(int)\n",
    "        source_gid_set_dict = defaultdict(set)\n",
    "        syn_ids_by_source_gid_dict = defaultdict(list)\n",
    "        structured_syn_id_count = 0\n",
    "\n",
    "        if has_structured_weights:\n",
    "            for source, (destination_gid, (source_gid_array, conn_attr_dict)) in zip_longest(all_sources, attr_gen_package):\n",
    "                syn_ids = conn_attr_dict['Synapses']['syn_id']\n",
    "                count = 0\n",
    "                this_initial_weights_by_syn_id_dict = None\n",
    "                this_initial_weights_by_source_gid_dict = None\n",
    "                \n",
    "                if destination_gid is not None:\n",
    "                    this_initial_weights_by_syn_id_dict = initial_weights_by_syn_id_dict[destination_gid]\n",
    "                    this_initial_weights_by_source_gid_dict = initial_weights_by_source_gid_dict[destination_gid]\n",
    "                    \n",
    "\n",
    "                for i in range(len(source_gid_array)):\n",
    "                    this_source_gid = source_gid_array[i]\n",
    "                    this_syn_id = syn_ids[i]\n",
    "                    this_syn_wgt = this_initial_weights_by_syn_id_dict.get(this_syn_id, 1.0)\n",
    "                    source_gid_set_dict[source].add(this_source_gid)\n",
    "                    syn_ids_by_source_gid_dict[this_source_gid].append(this_syn_id)\n",
    "                    syn_count_by_source_gid_dict[this_source_gid] += 1\n",
    "                    if this_source_gid not in this_initial_weights_by_source_gid_dict:\n",
    "                        this_initial_weights_by_source_gid_dict[this_source_gid] = this_syn_wgt\n",
    "                    \n",
    "                    count += 1\n",
    "                if source not in const_sources:\n",
    "                    structured_syn_id_count += len(syn_ids)\n",
    "                logger.info('destination: %s; gid %i; %d edges from source population %s' %\n",
    "                            (destination, this_gid, count, source))\n",
    "\n",
    "\n",
    "        input_rate_maps_by_source_gid_dict = {}\n",
    "        if len(const_sources) > 0:\n",
    "            const_input_rate_maps_by_source_gid_dict = {}\n",
    "        else:\n",
    "            const_input_rate_maps_by_source_gid_dict = None\n",
    "        for source in all_sources:\n",
    "            if has_structured_weights:\n",
    "                source_gids = list(source_gid_set_dict[source])\n",
    "            else:\n",
    "                source_gids = []\n",
    "            logger.info('Reading %s feature data for %i cells in population %s...' % (input_features_namespace, len(source_gids), source))\n",
    "            for input_features_namespace in this_input_features_namespaces:\n",
    "                input_features_iter = read_cell_attribute_selection(input_features_path, source, \n",
    "                                                                    namespace=input_features_namespace,\n",
    "                                                                    mask=set(source_features_attr_names), \n",
    "                                                                    comm=env.comm, selection=source_gids)\n",
    "                count = 0\n",
    "                for gid, attr_dict in input_features_iter:\n",
    "                    this_selectivity_type = attr_dict['Selectivity Type'][0]\n",
    "                    this_selectivity_type_name = selectivity_type_index[this_selectivity_type]\n",
    "                    input_cell_config = stimulus.get_input_cell_config(this_selectivity_type,\n",
    "                                                                       selectivity_type_index,\n",
    "                                                                       selectivity_attr_dict=attr_dict)\n",
    "                    this_arena_rate_map = np.asarray(input_cell_config.get_rate_map(arena_x, arena_y),\n",
    "                                                     dtype=np.float32)\n",
    "                    if source in const_sources:\n",
    "                        const_input_rate_maps_by_source_gid_dict[gid] = this_arena_rate_map\n",
    "                    else:\n",
    "                        input_rate_maps_by_source_gid_dict[gid] = this_arena_rate_map\n",
    "                    count += 1\n",
    "                \n",
    "                logger.info('Read %s feature data for %i cells in population %s' % (input_features_namespace, count, source))\n",
    "\n",
    "        if has_structured_weights:\n",
    "\n",
    "            structured_weights_dict[gid] = \\\n",
    "                {'target_map': target_selectivity_features_dict[this_gid]['Arena Rate Map'],\n",
    "                 'initial_weight_dict': this_initial_weights_by_source_gid_dict,\n",
    "                 'input_rate_map_dict': input_rate_maps_by_source_gid_dict,\n",
    "                 'const_input_rate_map_dict': const_input_rate_maps_by_source_gid_dict,\n",
    "                 'syn_count_dict': syn_count_by_source_gid_dict,\n",
    "                 'max_delta_weight': max_delta_weight, \n",
    "                 'arena_x': arena_x, \n",
    "                 'arena_y': arena_y\n",
    "                }\n",
    "\n"
   ]
  },
  {
   "cell_type": "code",
   "execution_count": 9,
   "metadata": {},
   "outputs": [],
   "source": [
    "target_map = structured_weights_dict[gid]['target_map']\n",
    "initial_weight_dict = structured_weights_dict[gid]['initial_weight_dict']\n",
    "input_rate_map_dict = structured_weights_dict[gid]['input_rate_map_dict']\n",
    "const_input_rate_map_dict = structured_weights_dict[gid]['const_input_rate_map_dict']\n",
    "syn_count_dict = structured_weights_dict[gid]['syn_count_dict']\n",
    "arena_x = structured_weights_dict[gid]['arena_x']\n",
    "arena_y = structured_weights_dict[gid]['arena_y']\n",
    "\n",
    "input_matrix = np.empty((target_map.size, len(input_rate_map_dict)),\n",
    "                            dtype=np.float64)\n",
    "source_gid_array = np.empty(len(input_rate_map_dict), dtype=np.uint32)\n",
    "syn_count_array = np.empty(len(input_rate_map_dict), dtype=np.uint32)\n",
    "initial_weight_array = np.empty(len(input_rate_map_dict), dtype=np.float64)\n",
    "for i, source_gid in enumerate(input_rate_map_dict):\n",
    "    source_gid_array[i] = source_gid\n",
    "    this_syn_count = syn_count_dict[source_gid]\n",
    "    this_input = input_rate_map_dict[source_gid].ravel() * this_syn_count\n",
    "    input_matrix[:, i] = this_input\n",
    "    syn_count_array[i] = this_syn_count\n",
    "    initial_weight_array[i] = initial_weight_dict[source_gid]\n",
    "\n",
    "\n",
    "const_input_matrix = None\n",
    "if const_input_rate_map_dict is not None:\n",
    "   const_input_matrix = np.empty((target_map.size, len(const_input_rate_map_dict)),\n",
    "                                 dtype=np.float64)\n",
    "   const_weight_array = np.empty(len(const_input_rate_map_dict), dtype=np.float64)\n",
    "   for i, source_gid in enumerate(const_input_rate_map_dict):\n",
    "        this_syn_count = syn_count_dict[source_gid]\n",
    "        this_input = const_input_rate_map_dict[source_gid].ravel() * this_syn_count\n",
    "        const_input_matrix[:, i] = this_input\n",
    "        const_weight_array[i] = 1.\n",
    "            \n"
   ]
  },
  {
   "cell_type": "code",
   "execution_count": 10,
   "metadata": {},
   "outputs": [],
   "source": [
    "import matplotlib.pyplot as plt\n",
    "\n",
    "mean_initial_weight = np.mean(initial_weight_array)\n",
    "initial_background_map = np.dot(input_matrix, initial_weight_array) + \\\n",
    "                         np.dot(const_input_matrix, const_weight_array)\n",
    "if np.mean(initial_background_map)<= 0.:\n",
    "   raise RuntimeError('generate_structured_delta_weights: initial weights must produce positive activation')\n",
    "\n",
    "mean_initial_background = np.mean(initial_background_map)\n",
    "scaled_background_map = initial_background_map / mean_initial_background\n",
    "scaled_background_map -= 1.\n",
    "scaled_target_map = np.asarray(target_map.flat - np.min(target_map), dtype=np.float64)\n",
    "\n",
    "\n",
    "if np.max(scaled_target_map) > 0.:\n",
    "   target_map_scaling_factor = target_amplitude / np.max(target_map)\n",
    "   scaled_target_map = scaled_target_map.flat * target_map_scaling_factor\n",
    "flat_scaled_target_map = scaled_target_map.ravel()\n",
    "\n",
    "\n",
    "plt.figure()\n",
    "plt.plot(flat_scaled_target_map);\n",
    "plt.plot(scaled_background_map);\n"
   ]
  },
  {
   "cell_type": "code",
   "execution_count": 11,
   "metadata": {},
   "outputs": [
    {
     "data": {
      "image/png": "[encoded data removed]",
      "text/plain": [
       "<Figure size 432x288 with 1 Axes>"
      ]
     },
     "metadata": {
      "needs_background": "light"
     },
     "output_type": "display_data"
    }
   ],
   "source": [
    "scaled_input_matrix = input_matrix / mean_initial_background\n",
    "\n",
    "scaled_const_input_matrix = const_input_matrix / mean_initial_background\n",
    "\n",
    "\n",
    "plt.figure()\n",
    "plt.plot(np.dot(scaled_input_matrix, initial_weight_array)  + \n",
    "         np.dot(scaled_const_input_matrix, const_weight_array) - 1, alpha=0.6)\n",
    "plt.plot(scaled_background_map, alpha=0.6);\n",
    "\n"
   ]
  },
  {
   "cell_type": "code",
   "execution_count": 12,
   "metadata": {},
   "outputs": [
    {
     "name": "stdout",
     "output_type": "stream",
     "text": [
      " \n",
      "LSMR            Least-squares solution of  Ax = b\n",
      "\n",
      "The matrix A has    63504 rows  and     2011 cols\n",
      "damp = 1.00000000000000e-01\n",
      "\n",
      "atol = 1.00e-03                 conlim = 1.00e+08\n",
      "\n",
      "btol = 1.00e-03             maxiter =     2011\n",
      "\n",
      " \n",
      "   itn      x(1)       norm r    norm Ar  compatible   LS      norm A   cond A\n",
      "     0  0.00000e+00  6.280e+01  8.193e+01   1.0e+00  2.1e-02\n",
      "     1  0.00000e+00  6.080e+01  6.980e+01   9.7e-01  3.2e-01  3.6e+00  1.0e+00\n",
      "     2  0.00000e+00  4.104e+01  3.618e+01   6.5e-01  1.2e-01  7.5e+00  4.3e+00\n",
      "     3  0.00000e+00  3.188e+01  2.232e+01   5.1e-01  9.0e-02  7.7e+00  4.7e+00\n",
      "     4  0.00000e+00  2.674e+01  1.502e+01   4.3e-01  7.0e-02  8.0e+00  5.0e+00\n",
      "     5  0.00000e+00  2.253e+01  1.052e+01   3.6e-01  5.7e-02  8.2e+00  6.4e+00\n",
      "     6  0.00000e+00  1.976e+01  7.716e+00   3.1e-01  4.6e-02  8.4e+00  6.5e+00\n",
      "     7  0.00000e+00  1.752e+01  5.549e+00   2.8e-01  3.7e-02  8.6e+00  7.2e+00\n",
      "     8  0.00000e+00  1.611e+01  4.256e+00   2.6e-01  3.0e-02  8.8e+00  8.0e+00\n",
      "     9  0.00000e+00  1.517e+01  3.560e+00   2.4e-01  2.6e-02  8.9e+00  9.2e+00\n",
      "    10  0.00000e+00  1.431e+01  2.930e+00   2.3e-01  2.2e-02  9.1e+00  8.3e+00\n",
      "    20  0.00000e+00  1.099e+01  7.149e-01   1.8e-01  5.1e-03  1.3e+01  1.2e+01\n",
      "    30  0.00000e+00  1.051e+01  2.124e-01   1.7e-01  1.3e-03  1.5e+01  1.6e+01\n",
      "    32  0.00000e+00  1.049e+01  1.829e-01   1.7e-01  1.0e-03  1.7e+01  8.0e+00\n",
      "    33  0.00000e+00  1.048e+01  1.640e-01   1.7e-01  9.2e-04  1.7e+01  1.5e+01\n",
      " \n",
      "LSMR finished\n",
      "The least-squares solution is good enough, given atol     \n",
      "istop =       2    normr = 1.0e+01\n",
      "    normA = 1.7e+01    normAr = 1.6e-01\n",
      "itn   =      33    condA = 1.5e+01\n",
      "    normx = 9.0e+01\n",
      "    33  0.00000e+00   1.048e+01  1.640e-01\n",
      "   1.7e-01  9.2e-04   1.7e+01  1.5e+01\n"
     ]
    }
   ],
   "source": [
    "lsqr_target_map = np.copy(scaled_target_map) - scaled_background_map\n",
    "res = scipy.sparse.linalg.lsmr(scaled_input_matrix,\n",
    "                               lsqr_target_map,\n",
    "                               atol=optimize_tol, btol=optimize_tol,\n",
    "                               damp=0.1, show=True)\n",
    "lsqr_delta_weights = np.asarray(res[0], dtype=np.float32)    \n"
   ]
  },
  {
   "cell_type": "code",
   "execution_count": 18,
   "metadata": {},
   "outputs": [
    {
     "data": {
      "image/png": "[encoded data removed]",
      "text/plain": [
       "<Figure size 432x288 with 1 Axes>"
      ]
     },
     "metadata": {
      "needs_background": "light"
     },
     "output_type": "display_data"
    },
    {
     "data": {
      "image/png": "[encoded data removed]",
      "text/plain": [
       "<Figure size 432x288 with 1 Axes>"
      ]
     },
     "metadata": {
      "needs_background": "light"
     },
     "output_type": "display_data"
    }
   ],
   "source": [
    "max_weight = 4.0\n",
    "assert(max_weight >= 1.)\n",
    "initial_weight_decay_fraction = 1.0\n",
    "initial_min = np.min(initial_weight_array)\n",
    "\n",
    "lb = -(initial_weight_decay_fraction * initial_min)\n",
    "ub = max_weight - np.max(initial_weight_array)\n",
    "initial_LS_bounds = (lb, ub)\n",
    "initial_LS_delta_weights = np.clip(lsqr_delta_weights, initial_LS_bounds[0], initial_LS_bounds[1])\n",
    "\n",
    "lsqr_map = np.dot(scaled_input_matrix, lsqr_delta_weights + initial_weight_array) - 1\n",
    "if scaled_const_input_matrix is not None:\n",
    "    lsqr_map += np.dot(scaled_const_input_matrix, const_weight_array)\n",
    "LS_map = np.dot(scaled_input_matrix, initial_LS_delta_weights + initial_weight_array) - 1\n",
    "if scaled_const_input_matrix is not None:\n",
    "    LS_map += np.dot(scaled_const_input_matrix, const_weight_array)\n",
    "\n",
    "plt.figure()\n",
    "plt.plot(lsqr_target_map + scaled_background_map, alpha=0.6, label='Target');\n",
    "plt.plot(lsqr_map, alpha=0.6, label='LSQR');\n",
    "plt.legend();\n",
    "\n",
    "plt.figure();\n",
    "plt.hist(lsqr_delta_weights, bins=50);\n"
   ]
  },
  {
   "cell_type": "code",
   "execution_count": 14,
   "metadata": {},
   "outputs": [],
   "source": [
    "def activation_map_residual(weights, input_matrix, target_map):\n",
    "    a = np.dot(input_matrix, weights)\n",
    "    e = np.subtract(target_map, a)\n",
    "                                           \n",
    "    res = np.square(e).mean() / 2.\n",
    "    return np.asarray(res, dtype=np.float64)\n",
    "\n",
    "def activation_map_residual_grad(weights, input_matrix, target_map):\n",
    "    N = weights.shape[0]\n",
    "    a = np.dot(input_matrix, weights)\n",
    "    e = np.subtract(target_map, a)\n",
    "    grad = -1./N * np.dot(input_matrix.T, e)\n",
    "    return np.asarray(grad, dtype=np.float64)\n"
   ]
  },
  {
   "cell_type": "code",
   "execution_count": 15,
   "metadata": {},
   "outputs": [],
   "source": [
    "import scipy.optimize as opt\n",
    "optimize_method = 'L-BFGS-B'\n",
    "\n",
    "method_options = {'disp': True, 'maxiter': 1000}\n",
    "method_options['maxfun'] = 1000000\n",
    "\n",
    "result = opt.minimize(activation_map_residual,\n",
    "                      initial_LS_delta_weights, \n",
    "                      jac=activation_map_residual_grad if optimize_grad else None,\n",
    "                      args=(scaled_input_matrix, lsqr_target_map.flat),\n",
    "                      method=optimize_method,\n",
    "                      bounds=[ (-(initial_weight_decay_fraction * x), max_weight - x)\n",
    "                                for x in initial_weight_array ],\n",
    "                      tol=optimize_tol,\n",
    "                      options=method_options)\n",
    "LS_delta_weights = np.array(result.x)\n"
   ]
  },
  {
   "cell_type": "code",
   "execution_count": 16,
   "metadata": {},
   "outputs": [
    {
     "name": "stdout",
     "output_type": "stream",
     "text": [
      "-2.552881602389229\n",
      "3.8935172483325005\n",
      "0.0696886593582917\n",
      "0.8884126752878266\n"
     ]
    },
    {
     "data": {
      "image/png": "[encoded data removed]",
      "text/plain": [
       "<Figure size 432x288 with 1 Axes>"
      ]
     },
     "metadata": {
      "needs_background": "light"
     },
     "output_type": "display_data"
    },
    {
     "data": {
      "image/png": "[encoded data removed]",
      "text/plain": [
       "<Figure size 432x288 with 1 Axes>"
      ]
     },
     "metadata": {
      "needs_background": "light"
     },
     "output_type": "display_data"
    }
   ],
   "source": [
    "print(np.min(LS_delta_weights))\n",
    "print(np.max(LS_delta_weights))\n",
    "print(np.mean(LS_delta_weights))\n",
    "print(np.std(LS_delta_weights))\n",
    "\n",
    "LS_delta_map = np.dot(scaled_input_matrix, LS_delta_weights + initial_weight_array) - 1\n",
    "\n",
    "if scaled_const_input_matrix is not None:\n",
    "    LS_delta_map += np.dot(scaled_const_input_matrix, const_weight_array)\n",
    "\n",
    "normalized_delta_weights_array = LS_delta_weights / np.max(LS_delta_weights)                        \n",
    "scaled_LS_weights = normalized_delta_weights_array * max_weight + initial_weight_array         \n",
    "    \n",
    "scaled_LS_delta_map = np.dot(scaled_input_matrix, scaled_LS_weights) - 1\n",
    "if scaled_const_input_matrix is not None:\n",
    "    scaled_LS_delta_map += np.dot(scaled_const_input_matrix, const_weight_array)\n",
    "    \n",
    "    \n",
    "plt.figure()\n",
    "plt.plot(lsqr_target_map + scaled_background_map, alpha=0.6, label='Target');\n",
    "plt.plot(lsqr_map, alpha=0.6, label=\"LSQR\");\n",
    "plt.plot(LS_delta_map, alpha=0.6, label=\"L-BFGS\");\n",
    "plt.plot(scaled_LS_delta_map, alpha=0.6, label=\"Scaled L-BFGS\");\n",
    "plt.legend();\n",
    "\n",
    "plt.figure()\n",
    "plt.plot(LS_delta_map, alpha=0.6, label=\"L-BFGS\");\n",
    "plt.plot(scaled_LS_delta_map, alpha=0.6, label=\"Scaled L-BFGS\");\n",
    "plt.legend();"
   ]
  },
  {
   "cell_type": "code",
   "execution_count": 17,
   "metadata": {},
   "outputs": [
    {
     "data": {
      "image/png": "[encoded data removed]",
      "text/plain": [
       "<Figure size 432x288 with 1 Axes>"
      ]
     },
     "metadata": {
      "needs_background": "light"
     },
     "output_type": "display_data"
    }
   ],
   "source": [
    "LS_delta_hist, LS_delta_bin_edges = np.histogram(LS_delta_weights + initial_weight_array)\n",
    "plt.semilogy(LS_delta_bin_edges[:-1], LS_delta_hist, label=\"LS delta\");\n",
    "#plt.hist(LS_delta_weights + mean_initial_weight, label=\"LS delta + mean initial\");\n",
    "plt.legend();"
   ]
  },
  {
   "cell_type": "code",
   "execution_count": null,
   "metadata": {},
   "outputs": [],
   "source": []
  }
 ],
 "metadata": {
  "kernelspec": {
   "display_name": "Python 3",
   "language": "python",
   "name": "python3"
  },
  "language_info": {
   "codemirror_mode": {
    "name": "ipython",
    "version": 3
   },
   "file_extension": ".py",
   "mimetype": "text/x-python",
   "name": "python",
   "nbconvert_exporter": "python",
   "pygments_lexer": "ipython3",
   "version": "3.6.8"
  }
 },
 "nbformat": 4,
 "nbformat_minor": 4
}
