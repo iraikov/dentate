{
 "cells": [
  {
   "cell_type": "code",
   "execution_count": 17,
   "metadata": {},
   "outputs": [],
   "source": [
    "import os, sys\n",
    "from os.path import expanduser\n",
    "from collections import defaultdict\n",
    "import numpy as np\n",
    "import matplotlib.pyplot as plt\n",
    "%matplotlib inline\n",
    "import pprint\n",
    "import neuroh5\n",
    "from neuroh5.io import read_population_ranges, read_population_names, read_cell_attributes, scatter_read_cell_attribute_selection\n",
    "import dentate\n",
    "from dentate import utils, plot, stimulus, spikedata\n",
    "from dentate.env import Env\n",
    "from dentate.stimulus import rate_maps_from_features\n",
    "from dentate.utils import contiguous_ranges, viewitems\n"
   ]
  },
  {
   "cell_type": "code",
   "execution_count": 2,
   "metadata": {},
   "outputs": [],
   "source": [
    "dataset_prefix='/media/igr/d865f900-7fcd-45c7-a7a7-bd2a7391bc40/Data/DG'\n",
    "population='GC'\n",
    "target_features_path = f'{dataset_prefix}/Full_Scale_Control/DG_input_features_20200910_compressed.h5'\n",
    "target_features_namespace = 'Place Selectivity'\n",
    "cell_index_set = set([245244])"
   ]
  },
  {
   "cell_type": "code",
   "execution_count": 14,
   "metadata": {},
   "outputs": [],
   "source": [
    "def read_input_features(env, input_features_path, input_features_namespace, arena_id, pop_name, cell_index_set):\n",
    "    \n",
    "    input_features_attr_names = ['Selectivity Type', 'Num Fields', 'Field Width', 'Peak Rate',                          \n",
    "                                 'Module ID', 'Grid Spacing', 'Grid Orientation',                                       \n",
    "                                 'Field Width Concentration Factor',                                                    \n",
    "                                 'X Offset', 'Y Offset']\n",
    "    \n",
    "    this_input_features_namespace = f'{input_features_namespace} {arena_id}'\n",
    "    \n",
    "    input_features_iter = scatter_read_cell_attribute_selection(input_features_path, pop_name,                          \n",
    "                                                                selection=cell_index_set,                               \n",
    "                                                                namespace=this_input_features_namespace,                \n",
    "                                                                mask=set(input_features_attr_names),                    \n",
    "                                                                comm=env.comm, io_size=env.io_size)                     \n",
    "    \n",
    "    results = {}\n",
    "    for gid, selectivity_attr_dict in input_features_iter:                                                              \n",
    "                                                                                                                        \n",
    "        this_selectivity_type = selectivity_attr_dict['Selectivity Type'][0]                                            \n",
    "        this_selectivity_type_name = selectivity_type_names[this_selectivity_type]                                      \n",
    "        input_cell_config = get_input_cell_config(selectivity_type=this_selectivity_type,                               \n",
    "                                                  selectivity_type_names=selectivity_type_names,                        \n",
    "                                                  selectivity_attr_dict=selectivity_attr_dict)                          \n",
    "        results[gid] = input_cell_config\n",
    "        \n",
    "    return results\n",
    "\n",
    "def range_inds(rs):                                                                                                 \n",
    "    l = list(rs)                                                                                                    \n",
    "    if len(l) > 0:                                                                                                  \n",
    "        a = np.concatenate(l)                                                                                       \n",
    "    else:                                                                                                           \n",
    "        a = None                                                                                                    \n",
    "    return a                                                                                                        \n"
   ]
  },
  {
   "cell_type": "code",
   "execution_count": 5,
   "metadata": {},
   "outputs": [],
   "source": [
    "env = Env(config_file='Network_Clamp_GC_Exc_Sat_SLN_IN_Izh_proximal_pf.yaml',\n",
    "          config_prefix='../config')\n",
    "\n",
    "arena_id='A'\n",
    "trajectory_id='Diag'\n",
    "\n",
    "target_rate_vector_dict = \\\n",
    "  rate_maps_from_features (env, population, \n",
    "                           target_features_path, \n",
    "                           target_features_namespace, \n",
    "                           cell_index_set, \n",
    "                           arena_id=arena_id, \n",
    "                           trajectory_id=trajectory_id,\n",
    "                           include_time=True)"
   ]
  },
  {
   "cell_type": "code",
   "execution_count": 8,
   "metadata": {},
   "outputs": [
    {
     "data": {
      "image/png": "[encoded data removed]",
      "text/plain": [
       "<Figure size 432x288 with 1 Axes>"
      ]
     },
     "metadata": {
      "needs_background": "light"
     },
     "output_type": "display_data"
    }
   ],
   "source": [
    "target_rate_time, target_rate = target_rate_vector_dict[245244]\n",
    "plt.figure()\n",
    "plt.fill_between(target_rate_time, 0, target_rate, alpha=0.25);\n",
    "plt.xlabel('Time [ms]');\n",
    "plt.ylabel('Firing rate [Hz]');\n"
   ]
  },
  {
   "cell_type": "code",
   "execution_count": 16,
   "metadata": {},
   "outputs": [],
   "source": [
    "infld_idxs_dict = { gid: np.where(target_rate_vector > 1e-4)[0]                                                     \n",
    "                    for gid, (_, target_rate_vector) in viewitems(target_rate_vector_dict) }                             \n",
    "peak_pctile_dict = { gid: np.percentile(target_rate_vector_dict[gid][1][infld_idxs], 80)                               \n",
    "                     for gid, infld_idxs in viewitems(infld_idxs_dict) }                                            \n",
    "trough_pctile_dict = { gid: np.percentile(target_rate_vector_dict[gid][1][infld_idxs], 20)                             \n",
    "                       for gid, infld_idxs in viewitems(infld_idxs_dict) }                                          \n",
    "outfld_idxs_dict = { gid: range_inds(contiguous_ranges(target_rate_vector < 1e-4, return_indices=True))             \n",
    "                     for gid, (_, target_rate_vector) in viewitems(target_rate_vector_dict) }                             \n",
    "\n",
    "peak_idxs_dict = { gid: range_inds(contiguous_ranges(target_rate_vector >= peak_pctile_dict[gid], return_indices=True))                                                                                                                    \n",
    "                    for gid, (_, target_rate_vector) in viewitems(target_rate_vector_dict) }                              \n",
    "trough_idxs_dict = { gid: range_inds(contiguous_ranges(np.logical_and(target_rate_vector > 0., target_rate_vector <= trough_pctile_dict[gid]), return_indices=True))                                                                       \n",
    "                     for gid, (_, target_rate_vector) in viewitems(target_rate_vector_dict) }                            \n",
    "\n",
    "target_rate_features_dict = {}\n",
    "for gid, (_, target_rate_vector) in viewitems(target_rate_vector_dict):\n",
    "    infld_idxs = infld_idxs_dict[gid]\n",
    "    peak_idxs = peak_idxs_dict[gid]\n",
    "    trough_idxs = trough_idxs_dict[gid]\n",
    "    target_infld = target_rate_vector[infld_idxs]                                                                   \n",
    "    target_max_infld = np.max(target_infld)                                                                         \n",
    "    target_mean_peak = np.mean(target_rate_vector[peak_idxs])\n",
    "    target_mean_trough = np.mean(target_rate_vector[trough_idxs])                                                   \n",
    "    target_rate_features_dict[gid] = {'max_infld': target_max_infld,\n",
    "                                      'target_mean_peak': target_mean_peak,\n",
    "                                      'target_mean_trough': target_mean_trough}"
   ]
  },
  {
   "cell_type": "code",
   "execution_count": 18,
   "metadata": {},
   "outputs": [
    {
     "name": "stdout",
     "output_type": "stream",
     "text": [
      "{245244: {'max_infld': 11.754471805369079,\n",
      "          'target_mean_peak': 11.01156885500988,\n",
      "          'target_mean_trough': 0.025440412593718372}}\n"
     ]
    }
   ],
   "source": [
    "pprint.pprint(target_rate_features_dict)"
   ]
  },
  {
   "cell_type": "code",
   "execution_count": null,
   "metadata": {},
   "outputs": [],
   "source": []
  }
 ],
 "metadata": {
  "kernelspec": {
   "display_name": "Python 3",
   "language": "python",
   "name": "python3"
  },
  "language_info": {
   "codemirror_mode": {
    "name": "ipython",
    "version": 3
   },
   "file_extension": ".py",
   "mimetype": "text/x-python",
   "name": "python",
   "nbconvert_exporter": "python",
   "pygments_lexer": "ipython3",
   "version": "3.6.8"
  }
 },
 "nbformat": 4,
 "nbformat_minor": 2
}
